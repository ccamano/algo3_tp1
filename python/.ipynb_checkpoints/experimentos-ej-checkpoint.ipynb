{
 "cells": [
  {
   "cell_type": "markdown",
   "metadata": {},
   "source": [
    "# Correr experimentos\n",
    "En este archivo está el código para correr los experimentos y escribir los resultados en archivos CSV.\n",
    "> Los archivos se guardan en la carpeta _resultados_."
   ]
  },
  {
   "cell_type": "code",
   "execution_count": 37,
   "metadata": {},
   "outputs": [],
   "source": [
    "import math, subprocess\n",
    "import pandas as pd\n",
    "import numpy as np\n",
    "from IPython.display import display, clear_output"
   ]
  },
  {
   "cell_type": "markdown",
   "metadata": {},
   "source": [
    "A continuación leemos los datasets en dataframes de Pandas."
   ]
  },
  {
   "cell_type": "code",
   "execution_count": 38,
   "metadata": {},
   "outputs": [],
   "source": [
    "def leer_instancia(path_instancia):\n",
    "    with open(path_instancia, \"r\") as f:\n",
    "        return f.read();\n",
    "\n",
    "df_densidad_alta = pd.read_csv(\"instancias/densidad-alta/indice.csv\");\n",
    "df_densidad_baja = pd.read_csv(\"instancias/densidad-baja/indice.csv\");\n",
    "df_mejor_caso_bt = pd.read_csv(\"instancias/mejor-caso-bt/indice.csv\");\n",
    "df_peor_caso_bt = pd.read_csv(\"instancias/peor-caso-bt/indice.csv\");\n",
    "df_dinamica = pd.read_csv(\"instancias/dinamica/indice.csv\");"
   ]
  },
  {
   "cell_type": "markdown",
   "metadata": {},
   "source": [
    "La siguiente función sirve para correr el código sobre una instancia ejecutando un método en particular.\n",
    "- FB: Fuerza bruta\n",
    "- BT: Backtracking con ambas podas.\n",
    "- BT-F: Backtracking solamente con poda por factibilidad.\n",
    "- BT-O: Backtracking solamente con poda por optimalidad.\n",
    "- DP: Programación dinámica."
   ]
  },
  {
   "cell_type": "code",
   "execution_count": 39,
   "metadata": {},
   "outputs": [],
   "source": [
    "def correr_experimento(metodo, archivo_instancia):\n",
    "    # Leer archivo de la instancia.\n",
    "    instancia = leer_instancia(archivo_instancia)\n",
    "    \n",
    "    # Crear proceso para ejecutar el codigo.\n",
    "    process = subprocess.Popen([\"../subsetsum\", metodo], stderr=subprocess.PIPE, stdout=subprocess.PIPE, stdin=subprocess.PIPE, universal_newlines = True)\n",
    "\n",
    "    # Poner la instancia en la entrada estandar.\n",
    "    process.stdin.write(instancia)\n",
    "    process.stdin.flush()\n",
    "\n",
    "    # Correr experimento.\n",
    "    exit_code = process.wait()\n",
    "\n",
    "    # Verificar que el proceso no fallo.\n",
    "    if exit_code != 0: raise(F\"Hubo un error en la experimentacion para el algoritmo: {algoritmo} con la instancia {archivo_instancia}.\")\n",
    "    # Leer salida de STDERR con los tiempos de ejecucion de cada metodo.\n",
    "    tiempo_de_ejecucion = float(process.stderr.read());\n",
    "    \n",
    "    process.stdin.close();\n",
    "    process.stdout.close();\n",
    "    process.stderr.close();\n",
    "    \n",
    "    return tiempo_de_ejecucion;"
   ]
  },
  {
   "cell_type": "markdown",
   "metadata": {},
   "source": [
    "## Corremos los experimentos\n",
    "Vamos a guardar una tabla con las ejecuciones y sus respectivos tiempos."
   ]
  },
  {
   "cell_type": "code",
   "execution_count": 40,
   "metadata": {},
   "outputs": [],
   "source": [
    "experimentos = [];"
   ]
  },
  {
   "cell_type": "markdown",
   "metadata": {},
   "source": [
    "### Experimento 1\n",
    "Correr Fuerza Bruta en las primeras 30 instancias de densidad-alta y densidad-baja."
   ]
  },
  {
   "cell_type": "code",
   "execution_count": 41,
   "metadata": {},
   "outputs": [],
   "source": [
    "for n in range(0, 30):\n",
    "    fila_n = df_densidad_alta.iloc[n];\n",
    "    experimentos.append([fila_n[\"dataset\"], n, fila_n[\"W\"], \"FB\", fila_n[\"archivo\"]]);\n",
    "\n",
    "for n in range(0, 30):\n",
    "    fila_n = df_densidad_baja.iloc[n];\n",
    "    experimentos.append([fila_n[\"dataset\"], n, fila_n[\"W\"], \"FB\", fila_n[\"archivo\"]]);"
   ]
  },
  {
   "cell_type": "markdown",
   "metadata": {},
   "source": [
    "## Experimento 2\n",
    "Correr BT para mejor y peor caso."
   ]
  },
  {
   "cell_type": "code",
   "execution_count": 42,
   "metadata": {},
   "outputs": [],
   "source": [
    "for n in range(0, df_mejor_caso_bt.shape[0]):\n",
    "    fila_n = df_mejor_caso_bt.iloc[n];\n",
    "    experimentos.append([fila_n[\"dataset\"], n, fila_n[\"W\"], \"BT\", fila_n[\"archivo\"]]);\n",
    "\n",
    "for n in range(0, df_peor_caso_bt.shape[0]):\n",
    "    fila_n = df_peor_caso_bt.iloc[n];\n",
    "    experimentos.append([fila_n[\"dataset\"], n, fila_n[\"W\"], \"BT\", fila_n[\"archivo\"]]);"
   ]
  },
  {
   "cell_type": "markdown",
   "metadata": {},
   "source": [
    "## Experimento 3\n",
    "Correr BT, BT-F, BT-O para densidad alta y baja."
   ]
  },
  {
   "cell_type": "code",
   "execution_count": 43,
   "metadata": {},
   "outputs": [],
   "source": [
    "for n in range(0, df_densidad_alta.shape[0]):\n",
    "    fila_n = df_densidad_alta.iloc[n];\n",
    "    experimentos.append([fila_n[\"dataset\"], n, fila_n[\"W\"], \"BT\", fila_n[\"archivo\"]]);\n",
    "    experimentos.append([fila_n[\"dataset\"], n, fila_n[\"W\"], \"BT-F\", fila_n[\"archivo\"]]);\n",
    "    experimentos.append([fila_n[\"dataset\"], n, fila_n[\"W\"], \"BT-O\", fila_n[\"archivo\"]]);\n",
    "\n",
    "for n in range(0, 30):\n",
    "    fila_n = df_densidad_baja.iloc[n];\n",
    "    experimentos.append([fila_n[\"dataset\"], n, fila_n[\"W\"], \"BT\", fila_n[\"archivo\"]]);\n",
    "    experimentos.append([fila_n[\"dataset\"], n, fila_n[\"W\"], \"BT-F\", fila_n[\"archivo\"]]);\n",
    "    experimentos.append([fila_n[\"dataset\"], n, fila_n[\"W\"], \"BT-O\", fila_n[\"archivo\"]]);"
   ]
  },
  {
   "cell_type": "markdown",
   "metadata": {},
   "source": [
    "# Experimento 4\n",
    "Correr DP para el dataset _dinamica_."
   ]
  },
  {
   "cell_type": "code",
   "execution_count": 44,
   "metadata": {},
   "outputs": [],
   "source": [
    "for i in range(0, df_dinamica.shape[0]):\n",
    "    fila = df_dinamica.iloc[i];\n",
    "    experimentos.append([fila[\"dataset\"], fila[\"n\"], fila[\"W\"], \"DP\", fila[\"archivo\"]]);"
   ]
  },
  {
   "cell_type": "markdown",
   "metadata": {},
   "source": [
    "## Experimento 5\n",
    "Correr DP para el dataset densidad-alta y densidad-baja."
   ]
  },
  {
   "cell_type": "code",
   "execution_count": 45,
   "metadata": {},
   "outputs": [],
   "source": [
    "for i in range(0, df_densidad_alta.shape[0]):\n",
    "    fila = df_densidad_alta.iloc[i];\n",
    "    experimentos.append([fila[\"dataset\"], fila[\"n\"], fila[\"W\"], \"DP\", fila[\"archivo\"]]);\n",
    "\n",
    "for i in range(0, df_densidad_baja.shape[0]):\n",
    "    fila = df_densidad_baja.iloc[i];\n",
    "    experimentos.append([fila[\"dataset\"], fila[\"n\"], fila[\"W\"], \"DP\", fila[\"archivo\"]]);"
   ]
  },
  {
   "cell_type": "markdown",
   "metadata": {},
   "source": [
    "## Ejecutar los experimentos y guardar los resultados en un archivo CSV.\n",
    "Este paso puede tardar unos minutos hasta terminar de ejecutarse."
   ]
  },
  {
   "cell_type": "code",
   "execution_count": 2,
   "metadata": {},
   "outputs": [
    {
     "ename": "NameError",
     "evalue": "name 'experimentos' is not defined",
     "output_type": "error",
     "traceback": [
      "\u001b[0;31m---------------------------------------------------------------------------\u001b[0m",
      "\u001b[0;31mNameError\u001b[0m                                 Traceback (most recent call last)",
      "\u001b[0;32m<ipython-input-2-093289621cb5>\u001b[0m in \u001b[0;36m<module>\u001b[0;34m\u001b[0m\n\u001b[1;32m      3\u001b[0m \u001b[0mnumero\u001b[0m \u001b[0;34m=\u001b[0m \u001b[0;36m1\u001b[0m\u001b[0;34m\u001b[0m\u001b[0;34m\u001b[0m\u001b[0m\n\u001b[1;32m      4\u001b[0m \u001b[0mT\u001b[0m \u001b[0;34m=\u001b[0m \u001b[0;36m5\u001b[0m \u001b[0;31m# Numero de veces que se ejecuta cada experimento (para mayor fidelidad del tiempo).\u001b[0m\u001b[0;34m\u001b[0m\u001b[0;34m\u001b[0m\u001b[0m\n\u001b[0;32m----> 5\u001b[0;31m \u001b[0;32mfor\u001b[0m \u001b[0mexperimento\u001b[0m \u001b[0;32min\u001b[0m \u001b[0mexperimentos\u001b[0m\u001b[0;34m:\u001b[0m\u001b[0;34m\u001b[0m\u001b[0;34m\u001b[0m\u001b[0m\n\u001b[0m\u001b[1;32m      6\u001b[0m     \u001b[0;31m# Voy mostrando que experimento se esta ejecutando.\u001b[0m\u001b[0;34m\u001b[0m\u001b[0;34m\u001b[0m\u001b[0;34m\u001b[0m\u001b[0m\n\u001b[1;32m      7\u001b[0m     \u001b[0mclear_output\u001b[0m\u001b[0;34m(\u001b[0m\u001b[0mwait\u001b[0m\u001b[0;34m=\u001b[0m\u001b[0;32mTrue\u001b[0m\u001b[0;34m)\u001b[0m\u001b[0;34m\u001b[0m\u001b[0;34m\u001b[0m\u001b[0m\n",
      "\u001b[0;31mNameError\u001b[0m: name 'experimentos' is not defined"
     ]
    }
   ],
   "source": [
    "columnas = [\"dataset\", \"n\", \"W\", \"metodo\", \"tiempo\"];\n",
    "filas = [];\n",
    "numero = 1\n",
    "T = 5 # Numero de veces que se ejecuta cada experimento (para mayor fidelidad del tiempo).\n",
    "for experimento in experimentos:\n",
    "    # Voy mostrando que experimento se esta ejecutando.\n",
    "    clear_output(wait=True)\n",
    "    display('Experimento: ' + str(numero) + \"/\" + str(len(experimentos)))\n",
    "    numero += 1\n",
    "    \n",
    "    # Ejecutamos el experimento T veces y obtenemos la mediana.\n",
    "    tiempos = []\n",
    "    for i in range(0, T):\n",
    "        tiempos.append(correr_experimento(experimento[3], experimento[4]));\n",
    "    tiempo = np.median(tiempos);\n",
    "    filas.append([experimento[0], experimento[1], experimento[2], experimento[3], tiempo]);\n",
    "df_resultado = pd.DataFrame(filas, columns=columnas);\n",
    "df_resultado.to_csv(\"resultados/resultado.csv\", index=False, header=True);"
   ]
  },
  {
   "cell_type": "code",
   "execution_count": null,
   "metadata": {},
   "outputs": [],
   "source": []
  },
  {
   "cell_type": "code",
   "execution_count": null,
   "metadata": {},
   "outputs": [],
   "source": []
  }
 ],
 "metadata": {
  "kernelspec": {
   "display_name": "Python 3",
   "language": "python",
   "name": "python3"
  },
  "language_info": {
   "codemirror_mode": {
    "name": "ipython",
    "version": 3
   },
   "file_extension": ".py",
   "mimetype": "text/x-python",
   "name": "python",
   "nbconvert_exporter": "python",
   "pygments_lexer": "ipython3",
   "version": "3.8.2"
  }
 },
 "nbformat": 4,
 "nbformat_minor": 4
}
