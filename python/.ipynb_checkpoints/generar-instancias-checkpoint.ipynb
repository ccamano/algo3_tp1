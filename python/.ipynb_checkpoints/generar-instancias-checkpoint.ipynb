{
 "cells": [
  {
   "cell_type": "markdown",
   "metadata": {},
   "source": [
    "# Generador de instancias\n",
    "En este notebook está el código para generar los sets de instancias que se usan para experimentar.\n",
    "- Estas instancias van a ser guardadas en la carpeta __instancias__.\n",
    "- Cada set estará en su propia carpeta y tendrá un archivo _indice.csv_ que contendrá información sobre las instancias."
   ]
  },
  {
   "cell_type": "code",
   "execution_count": 1,
   "metadata": {},
   "outputs": [],
   "source": [
    "import random, math\n",
    "import pandas as pd"
   ]
  },
  {
   "cell_type": "code",
   "execution_count": 2,
   "metadata": {},
   "outputs": [],
   "source": [
    "def save_instance(dataset, instance_name, S, W):\n",
    "    with open(F\"instancias/{dataset}/{instance_name}.txt\", \"w\") as f:\n",
    "        n = len(S)//2\n",
    "        print(n, W, file=f)\n",
    "        for s in S: \n",
    "            print(s, file=f, end=\" \")\n",
    "\n",
    "def save_index(dataset, instances):\n",
    "    with open(F\"instancias/{dataset}/instances.txt\", \"w\") as f:\n",
    "        for instance in instances: \n",
    "            print(instance, file=f)"
   ]
  },
  {
   "cell_type": "markdown",
   "metadata": {},
   "source": [
    "## Dataset 1\n",
    "Instancias de mejor caso de backtracking, están descriptas en el informe en más detalle.\n",
    "```\n",
    "S = {(M+1,M+1), ..., (M+1, M+1) , (b,1)} con M,b > 1.\n",
    "```"
   ]
  },
  {
   "cell_type": "code",
   "execution_count": 3,
   "metadata": {},
   "outputs": [],
   "source": [
    "filas_indice = []\n",
    "for i in range(1, 1001):\n",
    "    n = i * 10\n",
    "    W = 1000\n",
    "    S = [1001 for i in range(0, n)]\n",
    "    S[-1] = 1\n",
    "    save_instance(\"mejor-caso-bt\", F\"BT-MC-{math.floor(n/2)}\", S, W)\n",
    "    filas_indice.append([\"mejor-caso-bt\", F\"BT-MC-{math.floor(n/2)}\", math.floor(n/2), W, F\"instancias/mejor-caso-bt/BT-MC-{math.floor(n/2)}.txt\"])\n",
    "pd.DataFrame(filas_indice, columns=[\"dataset\", \"instancia\", \"n\", \"W\", \"archivo\"]).to_csv(\"instancias/mejor-caso-bt/indice.csv\", index=False, header=True)\n"
   ]
  },
  {
   "cell_type": "markdown",
   "metadata": {},
   "source": [
    "## Dataset 2\n",
    "Instancias de peor caso de backtracking, están descriptas en el informe en más detalle.\n",
    "```\n",
    "S = {(1,1), ...,(1, 1), (1, 1)} con M = n\n",
    "```"
   ]
  },
  {
   "cell_type": "code",
   "execution_count": 4,
   "metadata": {},
   "outputs": [],
   "source": [
    "filas_indice=[]\n",
    "for n in range(0, 64, 2):\n",
    "    W = n//2\n",
    "    S = [1 for i in range(0, n)]\n",
    "    save_instance(\"peor-caso-bt\", F\"BT-PC-{n//2}\", S, W)\n",
    "    filas_indice.append([\"peor-caso-bt\", F\"BT-PC-{n//2}\", n//2, W, F\"instancias/peor-caso-bt/BT-PC-{n//2}.txt\"])\n",
    "    pd.DataFrame(filas_indice, columns=[\"dataset\", \"instancia\", \"n\", \"W\", \"archivo\"]).to_csv(\"instancias/peor-caso-bt/indice.csv\", index=False, header=True)"
   ]
  },
  {
   "cell_type": "markdown",
   "metadata": {},
   "source": [
    "# Dataset 3\n",
    "Instancias con negocios de contagio bajo:\n",
    "\n",
    "S = { (1, 1) ..., (n,W)} con M = n*4, W = M/2, n > 0.\n"
   ]
  },
  {
   "cell_type": "code",
   "execution_count": 5,
   "metadata": {},
   "outputs": [],
   "source": [
    "\n",
    "\n",
    "filas_indice = []\n",
    "for n in range(2, 102, 2):\n",
    "    W = math.floor(n*2)\n",
    "    S = [0 for i in range(0, n)]\n",
    "    for i in range(0, n): S[i] = i+1\n",
    "    random.shuffle(S)\n",
    "    for i in range(0, n, 2): S[i] = math.floor(i +1)\n",
    "    save_instance(\"contagio-bajo\", F\"BAJO-{math.floor(n/2)}\", S, W)\n",
    "    filas_indice.append([\"contagio-bajo\", F\"BAJO-{math.floor(n/2)}\", math.floor(n/2), W, F\"instancias/contagio-bajo/BAJO-{math.floor(n/2)}.txt\"])\n",
    "pd.DataFrame(filas_indice, columns=[\"dataset\", \"instancia\", \"n\", \"W\", \"archivo\"]).to_csv(\"instancias/contagio-bajo/indice.csv\", index=False, header=True)\n",
    "\n"
   ]
  },
  {
   "cell_type": "markdown",
   "metadata": {},
   "source": [
    "## Dataset 4\n",
    "Instancias con negocios de contagio alto:\n",
    "\n",
    "S = { (1, 1) ..., (n,W)} con M = n/2, W = 4*M, n > 0."
   ]
  },
  {
   "cell_type": "code",
   "execution_count": 6,
   "metadata": {},
   "outputs": [],
   "source": [
    "\n",
    "\n",
    "filas_indice = []\n",
    "for n in range(2, 402, 2):\n",
    "    W = math.floor(n//4)\n",
    "    S = [0 for i in range(0, n)]\n",
    "    for i in range(0, n): S[i] = i+1\n",
    "    random.shuffle(S)\n",
    "    for i in range(0, n, 2): S[i] = i +1\n",
    "    save_instance(\"contagio-alto\", F\"ALTO-{math.floor(n//2)}\", S, W)\n",
    "    filas_indice.append([\"contagio-alto\", F\"ALTO-{math.floor(n//2)}\", math.floor(n//2), W, F\"instancias/contagio-alto/ALTO-{math.floor(n//2)}.txt\"])\n",
    "pd.DataFrame(filas_indice, columns=[\"dataset\", \"instancia\", \"n\", \"W\", \"archivo\"]).to_csv(\"instancias/contagio-alto/indice.csv\", index=False, header=True)\n",
    "\n"
   ]
  },
  {
   "cell_type": "markdown",
   "metadata": {},
   "source": [
    "## Dataset 5\n",
    "Instancias con contagio alto, M bajo, mismo beneficio para todo local:\n",
    "\n",
    "S = { (1, 1) ..., (1,W)} con W = 2*M\n",
    "\n"
   ]
  },
  {
   "cell_type": "code",
   "execution_count": 7,
   "metadata": {},
   "outputs": [],
   "source": [
    "\n",
    "\n",
    "filas_indice=[]\n",
    "for n in range(2, 202, 2):\n",
    "    W = n//2\n",
    "    S = [1 for i in range(0, n)]\n",
    "    for i in range(0, n): S[i] = i+1\n",
    "    random.shuffle(S)\n",
    "    for i in range(0, n, 2): S[i] = 1\n",
    "    save_instance(\"beneficio-igual-contagio-alto\", F\"BT-BICA-{n//2}\", S, W)\n",
    "    filas_indice.append([\"beneficio-igual-contagio-alto\", F\"BT-BICA-{n//2}\", n//2, W, F\"instancias/beneficio-igual-contagio-alto/BT-BICA-{n//2}.txt\"])\n",
    "    pd.DataFrame(filas_indice, columns=[\"dataset\", \"instancia\", \"n\", \"W\", \"archivo\"]).to_csv(\"instancias/beneficio-igual-contagio-alto/indice.csv\", index=False, header=True)"
   ]
  },
  {
   "cell_type": "markdown",
   "metadata": {},
   "source": [
    "## Dataset 6\n",
    "instancias con variable beneficio, mismo contagio para todo local:\n",
    "\n",
    "S = { (1, 1) ..., (n,1)} con n = M = |S|, \n",
    "\n",
    "Son solo 35 instancias porque es parecido al peor caso. Esta para demostrar la efectividad de las podas por beneficio de BT-O. \n",
    "\n"
   ]
  },
  {
   "cell_type": "code",
   "execution_count": 8,
   "metadata": {},
   "outputs": [],
   "source": [
    "filas_indice = []\n",
    "for n in range(2, 72, 2):\n",
    "    W = math.floor(n/2)\n",
    "    S = [0 for i in range(0, n)]\n",
    "    for i in range(0, n): S[i] = i+1\n",
    "    random.shuffle(S)\n",
    "    for i in range(1, n, 2): S[i] = 1\n",
    "    save_instance(\"sin-contagio\", F\"SIN-CONTAGIO-{math.floor(n/2)}\", S, W)\n",
    "    filas_indice.append([\"sin-contagio\", F\"SIN-CONTAGIO-{math.floor(n/2)}\", math.floor(n/2), W, F\"instancias/sin-contagio/SIN-CONTAGIO-{math.floor(n/2)}.txt\"])\n",
    "pd.DataFrame(filas_indice, columns=[\"dataset\", \"instancia\", \"n\", \"W\", \"archivo\"]).to_csv(\"instancias/sin-contagio/indice.csv\", index=False, header=True)"
   ]
  },
  {
   "cell_type": "markdown",
   "metadata": {},
   "source": [
    "# Dataset 7\n",
    "Instancias variando n y W con contagio bajo."
   ]
  },
  {
   "cell_type": "code",
   "execution_count": 9,
   "metadata": {},
   "outputs": [],
   "source": [
    "filas_indice = []\n",
    "for n in range(1000, 8000, 500):\n",
    "    for W in range(1000, 8000, 500):\n",
    "        S = [1 for i in range(0, n)]\n",
    "        save_instance(\"dinamica\", F\"DP-{n//2}-{W}\", S, W)\n",
    "        filas_indice.append([\"dinamica\", F\"DP-{math.floor(n//2)}-{W}\", math.floor(n//2), W, F\"instancias/dinamica/DP-{math.floor(n//2)}-{W}.txt\"])\n",
    "pd.DataFrame(filas_indice, columns=[\"dataset\", \"instancia\", \"n\", \"W\", \"archivo\"]).to_csv(\"instancias/dinamica/indice.csv\", index=False, header=True)"
   ]
  },
  {
   "cell_type": "markdown",
   "metadata": {},
   "source": [
    "# Dataset 8\n",
    "Instancias con negocios con limite de contagio alto:\n",
    "\n",
    "S = { (1, 1) ..., (n,n)} con M = n*2, n > 0."
   ]
  },
  {
   "cell_type": "code",
   "execution_count": 10,
   "metadata": {},
   "outputs": [],
   "source": [
    "\n",
    "filas_indice = []\n",
    "for n in range(2, 102, 2):\n",
    "    W = math.floor(n*2)\n",
    "    S = [0 for i in range(0, n)]\n",
    "    for i in range(0, n): S[i] = i+1\n",
    "    random.shuffle(S)\n",
    "    save_instance(\"m-alto-dp\", F\"M-ALTO-{math.floor(n/2)}\", S, W)\n",
    "    filas_indice.append([\"m-alto-dp\", F\"M-ALTO-{math.floor(n/2)}\", math.floor(n/2), W, F\"instancias/m-alto-dp/M-ALTO-{math.floor(n/2)}.txt\"])\n",
    "pd.DataFrame(filas_indice, columns=[\"dataset\", \"instancia\", \"n\", \"W\", \"archivo\"]).to_csv(\"instancias/m-alto-dp/indice.csv\", index=False, header=True)\n",
    "\n"
   ]
  },
  {
   "cell_type": "markdown",
   "metadata": {},
   "source": [
    "## Dataset 9\n",
    "Instancias con negocios con limite de contagio bajo:\n",
    "\n",
    "S = { (1, 1) ..., (n,n)} con M = n/4 , n > 0."
   ]
  },
  {
   "cell_type": "code",
   "execution_count": 11,
   "metadata": {},
   "outputs": [],
   "source": [
    "\n",
    "filas_indice = []\n",
    "for n in range(2, 202, 2):\n",
    "    W = math.floor(n//8)\n",
    "    S = [0 for i in range(0, n)]\n",
    "    for i in range(0, n): S[i] = i+1\n",
    "    random.shuffle(S)\n",
    "    save_instance(\"m-bajo-dp\", F\"M-BAJO-{math.floor(n//2)}\", S, W)\n",
    "    filas_indice.append([\"m-bajo-dp\", F\"M-BAJO-{math.floor(n//2)}\", math.floor(n//2), W, F\"instancias/m-bajo-dp/M-BAJO-{math.floor(n//2)}.txt\"])\n",
    "pd.DataFrame(filas_indice, columns=[\"dataset\", \"instancia\", \"n\", \"W\", \"archivo\"]).to_csv(\"instancias/m-bajo-dp/indice.csv\", index=False, header=True)\n"
   ]
  },
  {
   "cell_type": "code",
   "execution_count": null,
   "metadata": {},
   "outputs": [],
   "source": []
  }
 ],
 "metadata": {
  "kernelspec": {
   "display_name": "Python 3",
   "language": "python",
   "name": "python3"
  },
  "language_info": {
   "codemirror_mode": {
    "name": "ipython",
    "version": 3
   },
   "file_extension": ".py",
   "mimetype": "text/x-python",
   "name": "python",
   "nbconvert_exporter": "python",
   "pygments_lexer": "ipython3",
   "version": "3.8.2"
  }
 },
 "nbformat": 4,
 "nbformat_minor": 4
}
